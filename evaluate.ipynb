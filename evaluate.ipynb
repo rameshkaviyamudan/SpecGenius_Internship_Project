{
 "cells": [
  {
   "cell_type": "code",
   "execution_count": 1,
   "metadata": {
    "execution": {
     "iopub.execute_input": "2024-07-19T20:43:44.724621Z",
     "iopub.status.busy": "2024-07-19T20:43:44.724621Z",
     "iopub.status.idle": "2024-07-19T20:43:50.818118Z",
     "shell.execute_reply": "2024-07-19T20:43:50.817113Z"
    }
   },
   "outputs": [
    {
     "name": "stdout",
     "output_type": "stream",
     "text": [
      "Connected to server\n"
     ]
    }
   ],
   "source": [
    "import json\n",
    "import random\n",
    "import openai # Install the OpenAI Python package with `pip install openai`\n",
    "import time\n",
    "import os\n",
    "import socketio\n",
    "import pandas as pd\n",
    "\n",
    "sio = socketio.Client()\n",
    "\n",
    "# Connect to the server\n",
    "@sio.event\n",
    "def connect():\n",
    "    print('Connected to server')\n",
    "\n",
    "# Define a function to send a message to the server\n",
    "def send_message_to_server(message):\n",
    "    sio.emit('message_from_notebook', message)\n",
    "# Define a function to send the CSV data to the server\n",
    "def send_csv_data(csv_data):\n",
    "    sio.emit('csv_data', csv_data)\n",
    "# Connect to the server\n",
    "sio.connect('http://localhost:5000')\n",
    "send_message_to_server(\"Evaluation started\")"
   ]
  },
  {
   "cell_type": "code",
   "execution_count": 2,
   "metadata": {
    "execution": {
     "iopub.execute_input": "2024-07-19T20:43:50.862960Z",
     "iopub.status.busy": "2024-07-19T20:43:50.861964Z",
     "iopub.status.idle": "2024-07-19T20:43:52.925470Z",
     "shell.execute_reply": "2024-07-19T20:43:52.924598Z"
    }
   },
   "outputs": [
    {
     "name": "stdout",
     "output_type": "stream",
     "text": [
      "Using model: ft:gpt-3.5-turbo-0125:personal::9mnYuuez\n"
     ]
    }
   ],
   "source": [
    "# Add this near the beginning of your notebook, after the imports\n",
    "import requests\n",
    "\n",
    "# Fetch the model name\n",
    "def get_model_name():\n",
    "    try:\n",
    "        response = requests.get('http://localhost:5000/model-name')\n",
    "        return response.json()['modelName']\n",
    "    except Exception as e:\n",
    "        print(f\"Error fetching model name: {e}\")\n",
    "        return \"Unknown\"\n",
    "\n",
    "model_name = get_model_name()\n",
    "print(f\"Using model: {model_name}\")\n",
    "send_message_to_server(f\"Using model: {model_name}\")"
   ]
  },
  {
   "cell_type": "code",
   "execution_count": 3,
   "metadata": {
    "execution": {
     "iopub.execute_input": "2024-07-19T20:43:52.931469Z",
     "iopub.status.busy": "2024-07-19T20:43:52.931469Z",
     "iopub.status.idle": "2024-07-19T20:44:09.451924Z",
     "shell.execute_reply": "2024-07-19T20:44:09.449909Z"
    }
   },
   "outputs": [
    {
     "name": "stdout",
     "output_type": "stream",
     "text": [
      "Using evaluation data from evaluation_data\\evaluation_data.csv\n"
     ]
    },
    {
     "name": "stdout",
     "output_type": "stream",
     "text": [
      "Processed row 1/4\n"
     ]
    },
    {
     "name": "stdout",
     "output_type": "stream",
     "text": [
      "Processed row 2/4\n"
     ]
    },
    {
     "name": "stdout",
     "output_type": "stream",
     "text": [
      "Processed row 3/4\n"
     ]
    },
    {
     "name": "stdout",
     "output_type": "stream",
     "text": [
      "Processed row 4/4\n"
     ]
    }
   ],
   "source": [
    "import pandas as pd\n",
    "import numpy as np\n",
    "import requests\n",
    "import json\n",
    "from sklearn.metrics import accuracy_score\n",
    "\n",
    "eval_data_path = os.environ.get('EVAL_DATA_PATH', 'evaluation_data.csv')\n",
    "print(f\"Using evaluation data from {eval_data_path}\")\n",
    "send_message_to_server(f\"Using evaluation data from {eval_data_path}\")\n",
    "\n",
    "def query_model(user_query):\n",
    "    response = requests.post('http://localhost:5000/query', data={'user_query': user_query})\n",
    "    return response.text\n",
    "\n",
    "# Load the evaluation data using the provided path\n",
    "eval_data = pd.read_csv(eval_data_path)\n",
    "\n",
    "# Define the columns to use for querying (you can adjust these)\n",
    "query_columns = ['Method', 'Temp.']\n",
    "\n",
    "actual_results = []\n",
    "predicted_results = []\n",
    "\n",
    "for index, row in eval_data.iterrows():\n",
    "    # Construct the query using the specified columns\n",
    "    query_parts = []\n",
    "    for col in query_columns:\n",
    "        if pd.notna(row[col]):\n",
    "            query_parts.append(f\"{col}: {row[col]}\")\n",
    "    \n",
    "    query = \", \".join(query_parts)\n",
    "    \n",
    "    # Query the model\n",
    "    predicted_result = query_model(query)\n",
    "    \n",
    "    # Store results\n",
    "    actual_results.append(row.to_dict())\n",
    "    predicted_results.append(predicted_result)\n",
    "    \n",
    "    print(f\"Processed row {index + 1}/{len(eval_data)}\")\n",
    "    send_message_to_server(f\"Processed row {index + 1}/{len(eval_data)}\")\n",
    "\n"
   ]
  },
  {
   "cell_type": "code",
   "execution_count": 4,
   "metadata": {
    "execution": {
     "iopub.execute_input": "2024-07-19T20:44:09.455925Z",
     "iopub.status.busy": "2024-07-19T20:44:09.455925Z",
     "iopub.status.idle": "2024-07-19T20:44:12.501706Z",
     "shell.execute_reply": "2024-07-19T20:44:12.500705Z"
    }
   },
   "outputs": [
    {
     "name": "stdout",
     "output_type": "stream",
     "text": [
      "Evaluation completed. Results saved to evaluation_results.json\n"
     ]
    }
   ],
   "source": [
    "from collections import Counter\n",
    "from time import sleep\n",
    "def parse_result(result):\n",
    "    parsed = {}\n",
    "    for item in result.split(','):\n",
    "        parts = item.split(':')\n",
    "        if len(parts) == 2:\n",
    "            key = parts[0].strip()\n",
    "            value = parts[1].strip()\n",
    "            parsed[key] = value\n",
    "    return parsed\n",
    "\n",
    "def compare_results(actual, predicted):\n",
    "    actual_items = set(actual.items())\n",
    "    predicted_dict = parse_result(predicted)\n",
    "    predicted_items = set(predicted_dict.items())\n",
    "    \n",
    "    correct_items = actual_items.intersection(predicted_items)\n",
    "    return {\n",
    "        'accuracy': len(correct_items) / len(actual_items),\n",
    "        'correct_items': len(correct_items),\n",
    "        'total_items': len(actual_items),\n",
    "        'missing_items': len(actual_items) - len(correct_items),\n",
    "        'extra_items': len(predicted_items) - len(correct_items)\n",
    "    }\n",
    "\n",
    "# Calculate metrics\n",
    "comparisons = [compare_results(actual, predicted) for actual, predicted in zip(actual_results, predicted_results)]\n",
    "\n",
    "overall_accuracy = sum(comp['accuracy'] for comp in comparisons) / len(comparisons)\n",
    "total_correct = sum(comp['correct_items'] for comp in comparisons)\n",
    "total_items = sum(comp['total_items'] for comp in comparisons)\n",
    "total_missing = sum(comp['missing_items'] for comp in comparisons)\n",
    "total_extra = sum(comp['extra_items'] for comp in comparisons)\n",
    "\n",
    "# Calculate per-field accuracy\n",
    "all_fields = set(field for result in actual_results for field in result.keys())\n",
    "field_correct = Counter()\n",
    "field_total = Counter()\n",
    "\n",
    "for actual, predicted in zip(actual_results, predicted_results):\n",
    "    predicted_dict = parse_result(predicted)\n",
    "    for field in all_fields:\n",
    "        if field in actual:\n",
    "            field_total[field] += 1\n",
    "            if field in predicted_dict and actual[field] == predicted_dict[field]:\n",
    "                field_correct[field] += 1\n",
    "\n",
    "field_accuracy = {field: field_correct[field] / field_total[field] for field in all_fields}\n",
    "\n",
    "# Create a results dictionary\n",
    "results = {\n",
    "    'model_name': model_name,\n",
    "    'overall_accuracy': overall_accuracy,\n",
    "    'total_correct_items': total_correct,\n",
    "    'total_items': total_items,\n",
    "    'total_missing_items': total_missing,\n",
    "    'total_extra_items': total_extra,\n",
    "    'per_field_accuracy': field_accuracy,\n",
    "    'individual_comparisons': comparisons\n",
    "}\n",
    "\n",
    "# Save results to a file\n",
    "with open('evaluation_results.json', 'w') as f:\n",
    "    json.dump(results, f)\n",
    "\n",
    "with open('last_evaluation_result.json', 'w') as f:\n",
    "    json.dump(results, f)\n",
    "\n",
    "\n",
    "print(\"Evaluation completed. Results saved to evaluation_results.json\")\n",
    "send_message_to_server(\"Evaluation Completeed, showing results...\")\n",
    "sleep(3)\n",
    "send_message_to_server(\"Evaluation completed. Results saved to evaluation_results.json\")"
   ]
  },
  {
   "cell_type": "code",
   "execution_count": 5,
   "metadata": {
    "execution": {
     "iopub.execute_input": "2024-07-19T20:44:12.508276Z",
     "iopub.status.busy": "2024-07-19T20:44:12.506713Z",
     "iopub.status.idle": "2024-07-19T20:44:25.726934Z",
     "shell.execute_reply": "2024-07-19T20:44:25.725933Z"
    }
   },
   "outputs": [
    {
     "name": "stdout",
     "output_type": "stream",
     "text": [
      "Server is restarting...\n"
     ]
    },
    {
     "name": "stdout",
     "output_type": "stream",
     "text": [
      "Waiting for server to restart...\n"
     ]
    },
    {
     "name": "stdout",
     "output_type": "stream",
     "text": [
      "Server is back online\n"
     ]
    },
    {
     "name": "stdout",
     "output_type": "stream",
     "text": [
      "Connected to server\n"
     ]
    }
   ],
   "source": [
    "def restart_server():    \n",
    "    # Trigger server restart\n",
    "    try:\n",
    "        requests.post('http://localhost:5000/restart')\n",
    "        print(\"Restart signal sent to server\")\n",
    "    except requests.exceptions.ConnectionError:\n",
    "        print(\"Server is restarting...\")\n",
    "    \n",
    "    # Wait for server to come back online\n",
    "    server_up = False\n",
    "    while not server_up:\n",
    "        try:\n",
    "            response = requests.get('http://localhost:5000/healthcheck')\n",
    "            if response.status_code == 200:\n",
    "                server_up = True\n",
    "                print(\"Server is back online\")\n",
    "        except requests.exceptions.ConnectionError:\n",
    "            print(\"Waiting for server to restart...\")\n",
    "            time.sleep(5)\n",
    "restart_server()"
   ]
  }
 ],
 "metadata": {
  "kernelspec": {
   "display_name": "Python 3",
   "language": "python",
   "name": "python3"
  },
  "language_info": {
   "codemirror_mode": {
    "name": "ipython",
    "version": 3
   },
   "file_extension": ".py",
   "mimetype": "text/x-python",
   "name": "python",
   "nbconvert_exporter": "python",
   "pygments_lexer": "ipython3",
   "version": "3.8.1"
  }
 },
 "nbformat": 4,
 "nbformat_minor": 4
}
